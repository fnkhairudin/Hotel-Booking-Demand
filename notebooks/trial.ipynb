{
 "cells": [
  {
   "cell_type": "markdown",
   "metadata": {},
   "source": [
    "<h1><center>Hotel Booking Demand</center></h1>"
   ]
  },
  {
   "cell_type": "markdown",
   "metadata": {},
   "source": [
    "## `Business Problem`"
   ]
  },
  {
   "cell_type": "markdown",
   "metadata": {},
   "source": [
    "**Project Stakeholders**:\n",
    "<br>\n",
    "Stakeholders yang akan menggunakan model ini adalah:\n",
    "1. Marketing Departement\n",
    "2. Finance Departement"
   ]
  },
  {
   "cell_type": "markdown",
   "metadata": {},
   "source": [
    "**Context**:\n",
    "<br>\n",
    "Sebuah perusahaan yang bergerak dibidang hospitality industry-khususnya perhotelan-dan berlokasi di Portugal. Hospitality industry lebih fokus dengan kepuasan pelanggan. Berdasarkan [The Big Four](https://www.hospitalitynet.org/opinion/4082318.html), ada bermacam-macam hospitality industry, seperti Food and Beverages, Travel and Tourism, Lodging, dan Recreation. Industri hotel termasuk ke dalam lodging, salah satu permasalahan yang sering terjadi pada industri hotel adalah pembatalan pesanan oleh pelanggan.\n",
    "\n",
    "Target (is_canceled):\n",
    "\n",
    "1 : pesanan yang dibatalkan (positif)\n",
    "\n",
    "0 : pesanan yang **tidak** dibatalkan (negatif)"
   ]
  },
  {
   "cell_type": "markdown",
   "metadata": {},
   "source": [
    "**Prolem Statement**:\n",
    "<br>\n",
    "Perusahaan ingin mengetahui atau memprediksi apakah suatu pelanggan akan membatalkan pesanan atau tidak. Hal ini dimaksudkan karena pembatalan pesanan dapat memberikan dampak negatif bagi revenue perusahaan dan reputasi perusahaan tersebut, yang akan berujung pada menurunnya performa bisnis.\n",
    "\n",
    "Dengan mengidentifikasi pesanan mana yang kemungkinan dibatalkan, pihak hotel dapat menawarkan layanan lainnya seperti, diskon, tiket masuk ke pertunjukkan/taman hiburan, ataupun hal lainnya. Akan tetapi, penawaran-penawaran ini mungkin tidak dapat selalu diterapkan mengingatkan tingkat keekonomian/kesensitifan yang pelanggan berbeda-beda, contoh tamu perusahaan (coorporate guests)."
   ]
  },
  {
   "cell_type": "markdown",
   "metadata": {},
   "source": [
    "**Goals**:\n",
    "<br>\n",
    "Sebisa mungkin perusahaan tidak kehilangan potential customer/pelanggan yang berujung pada meningkatnya revenue perusahaan."
   ]
  },
  {
   "cell_type": "markdown",
   "metadata": {},
   "source": [
    "**Analytic Approach**:\n",
    "<br>\n",
    "Jadi yang akan kita lakukan adalah menganalisis data untuk menemukan pola yang membedakan pelanggan yang akan membatalkan pesanan atau tidak.\n",
    "\n",
    "Kemudian kita akan membangun model `klasifikasi` yang akan membantu perusahaan untuk dapat memprediksi pelanggan yang akan membatalkan pesanan atau tidak."
   ]
  },
  {
   "cell_type": "markdown",
   "metadata": {},
   "source": [
    "**Metric Evaluation**:\n",
    "<br>\n",
    "Type I Error: False Positive\n",
    "<br>\n",
    "Kondisi di mana pelanggan terprediksi **membatalkan** pesanan padahal kenyataannya tidak membatalkan pesanan\n",
    "\n",
    "Type II Error: False Negative\n",
    "<br>\n",
    "Kondisi di mana pelangga terprediksi tidak membatalkan pesanan padahal kenyataannya membatalkan pesanan\n",
    "\n",
    "Berdasarkan konsekuensinya, maka sebisa mungkin yang akan kita lakukan adalah membuat model yang dapat memprediksi sebanyak mungkin kelas positif yang benar **(True Positif)** dan sesedikit mungkin prediksi kelas **False Negative**. Jadi, nanti metric utama yang digunakan adalah `Recall`."
   ]
  },
  {
   "cell_type": "code",
   "execution_count": 2,
   "metadata": {},
   "outputs": [],
   "source": [
    "import pandas as pd\n",
    "import numpy as np"
   ]
  },
  {
   "cell_type": "code",
   "execution_count": 3,
   "metadata": {},
   "outputs": [
    {
     "data": {
      "text/plain": [
       "(83573, 11)"
      ]
     },
     "execution_count": 3,
     "metadata": {},
     "output_type": "execute_result"
    }
   ],
   "source": [
    "data = pd.read_csv(r\"C:\\Users\\faisa\\Desktop\\DataSciencePurwadhika\\Modul3ML\\HotelBookingDemand\\data\\raw\\data_hotel_booking_demand.csv\")\n",
    "data.shape"
   ]
  }
 ],
 "metadata": {
  "kernelspec": {
   "display_name": "Python 3",
   "language": "python",
   "name": "python3"
  },
  "language_info": {
   "codemirror_mode": {
    "name": "ipython",
    "version": 3
   },
   "file_extension": ".py",
   "mimetype": "text/x-python",
   "name": "python",
   "nbconvert_exporter": "python",
   "pygments_lexer": "ipython3",
   "version": "3.9.13"
  },
  "orig_nbformat": 4
 },
 "nbformat": 4,
 "nbformat_minor": 2
}
